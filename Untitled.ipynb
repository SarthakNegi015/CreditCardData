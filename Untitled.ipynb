{
 "cells": [
  {
   "cell_type": "code",
   "execution_count": 2,
   "id": "f5614043",
   "metadata": {},
   "outputs": [],
   "source": [
    "import pandas as pd\n",
    "import math"
   ]
  },
  {
   "cell_type": "code",
   "execution_count": 4,
   "id": "45070b1d",
   "metadata": {},
   "outputs": [],
   "source": [
    "df = pd.read_csv('creditcard.csv')"
   ]
  },
  {
   "cell_type": "code",
   "execution_count": 5,
   "id": "66687ccc",
   "metadata": {},
   "outputs": [],
   "source": [
    "batch_size = 20000"
   ]
  },
  {
   "cell_type": "code",
   "execution_count": 12,
   "id": "9bcea1e2",
   "metadata": {},
   "outputs": [],
   "source": [
    "num_batch = math.ceil(len(df)/batch_size)"
   ]
  },
  {
   "cell_type": "code",
   "execution_count": 13,
   "id": "b61baf00",
   "metadata": {},
   "outputs": [
    {
     "name": "stdout",
     "output_type": "stream",
     "text": [
      "Batch 1 saved with 20000 rows.\n",
      "Batch 2 saved with 20000 rows.\n",
      "Batch 3 saved with 20000 rows.\n",
      "Batch 4 saved with 20000 rows.\n",
      "Batch 5 saved with 20000 rows.\n",
      "Batch 6 saved with 20000 rows.\n",
      "Batch 7 saved with 20000 rows.\n",
      "Batch 8 saved with 20000 rows.\n",
      "Batch 9 saved with 20000 rows.\n",
      "Batch 10 saved with 20000 rows.\n",
      "Batch 11 saved with 20000 rows.\n",
      "Batch 12 saved with 20000 rows.\n",
      "Batch 13 saved with 20000 rows.\n",
      "Batch 14 saved with 20000 rows.\n",
      "Batch 15 saved with 4807 rows.\n"
     ]
    }
   ],
   "source": [
    "for i in range(num_batch):\n",
    "    \n",
    "    start_index = i * batch_size\n",
    "    end_index = (i+1) * batch_size\n",
    "    \n",
    "    batch_df = df[start_index:end_index]\n",
    "    \n",
    "    batch_df.to_csv(f'batch{i+1}.csv', index=False)\n",
    "    print(f'Batch {i+1} saved with {len(batch_df)} rows.')"
   ]
  },
  {
   "cell_type": "code",
   "execution_count": null,
   "id": "38403baf",
   "metadata": {},
   "outputs": [],
   "source": []
  }
 ],
 "metadata": {
  "kernelspec": {
   "display_name": "Python 3 (ipykernel)",
   "language": "python",
   "name": "python3"
  },
  "language_info": {
   "codemirror_mode": {
    "name": "ipython",
    "version": 3
   },
   "file_extension": ".py",
   "mimetype": "text/x-python",
   "name": "python",
   "nbconvert_exporter": "python",
   "pygments_lexer": "ipython3",
   "version": "3.11.5"
  }
 },
 "nbformat": 4,
 "nbformat_minor": 5
}
